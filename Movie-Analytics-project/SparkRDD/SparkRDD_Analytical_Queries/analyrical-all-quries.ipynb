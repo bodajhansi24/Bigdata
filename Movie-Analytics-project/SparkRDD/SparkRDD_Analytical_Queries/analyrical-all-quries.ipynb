{
 "cells": [
  {
   "cell_type": "markdown",
   "id": "f845d93b",
   "metadata": {},
   "source": [
    "# Analytical Queries:\n"
   ]
  },
  {
   "cell_type": "raw",
   "id": "e47c31c0",
   "metadata": {},
   "source": [
    "1.What are the top 10 most viewed movies?\n",
    "2.What are the distinct list of genres available?\n",
    "3.How many movies for each genre?\n",
    "4.How many movies are starting with numbers or letters (Example: Starting with 1/2/3../A/B/C..Z)?\n",
    "5.List the latest released movies"
   ]
  },
  {
   "cell_type": "code",
   "execution_count": 1,
   "id": "6f1831f0",
   "metadata": {},
   "outputs": [
    {
     "name": "stdout",
     "output_type": "stream",
     "text": [
      "Requirement already satisfied: pyspark in /Users/jhansiboda/anaconda3/lib/python3.10/site-packages (3.4.0)\n",
      "Requirement already satisfied: py4j==0.10.9.7 in /Users/jhansiboda/anaconda3/lib/python3.10/site-packages (from pyspark) (0.10.9.7)\n",
      "Note: you may need to restart the kernel to use updated packages.\n"
     ]
    }
   ],
   "source": [
    "pip install pyspark"
   ]
  },
  {
   "cell_type": "code",
   "execution_count": 2,
   "id": "38a7f5d3",
   "metadata": {},
   "outputs": [],
   "source": [
    "from pyspark.sql.functions import *\n",
    "from pyspark.sql import SparkSession\n",
    "from pyspark.sql.functions import substring, col"
   ]
  },
  {
   "cell_type": "code",
   "execution_count": 3,
   "id": "c6f37c79",
   "metadata": {},
   "outputs": [],
   "source": [
    "home_dir = \"/Users/jhansiboda/Desktop/MovieAnalytics/Movie-Analytics-project/MovieLens Dataset/\""
   ]
  },
  {
   "cell_type": "code",
   "execution_count": 4,
   "id": "04180d57",
   "metadata": {},
   "outputs": [
    {
     "name": "stdout",
     "output_type": "stream",
     "text": [
      "/Users/jhansiboda/Desktop/MovieAnalytics/Movie-Analytics-project/MovieLens Dataset/\n"
     ]
    }
   ],
   "source": [
    "print(home_dir)"
   ]
  },
  {
   "cell_type": "code",
   "execution_count": 5,
   "id": "f4a68d02",
   "metadata": {},
   "outputs": [
    {
     "name": "stderr",
     "output_type": "stream",
     "text": [
      "Setting default log level to \"WARN\".\n",
      "To adjust logging level use sc.setLogLevel(newLevel). For SparkR, use setLogLevel(newLevel).\n",
      "23/06/20 21:37:18 WARN NativeCodeLoader: Unable to load native-hadoop library for your platform... using builtin-java classes where applicable\n"
     ]
    }
   ],
   "source": [
    "# Create a SparkSession\n",
    "spark = SparkSession.builder.getOrCreate()"
   ]
  },
  {
   "cell_type": "code",
   "execution_count": 6,
   "id": "de1b766b",
   "metadata": {},
   "outputs": [],
   "source": [
    "movies = spark.read.option(\"header\", \"False\").option(\"delimiter\",\"::\").option(\"inferSchema\",\"true\").csv(home_dir + \"movies.csv\")"
   ]
  },
  {
   "cell_type": "code",
   "execution_count": 7,
   "id": "e77d749a",
   "metadata": {},
   "outputs": [
    {
     "name": "stdout",
     "output_type": "stream",
     "text": [
      "DataFrame[_c0: int, _c1: string, _c2: string]\n"
     ]
    }
   ],
   "source": [
    "print(movies)"
   ]
  },
  {
   "cell_type": "code",
   "execution_count": 8,
   "id": "2852f01b",
   "metadata": {},
   "outputs": [
    {
     "name": "stdout",
     "output_type": "stream",
     "text": [
      "root\n",
      " |-- _c0: integer (nullable = true)\n",
      " |-- _c1: string (nullable = true)\n",
      " |-- _c2: string (nullable = true)\n",
      "\n"
     ]
    }
   ],
   "source": [
    "movies.printSchema()"
   ]
  },
  {
   "cell_type": "code",
   "execution_count": 9,
   "id": "39d264e2",
   "metadata": {},
   "outputs": [
    {
     "data": {
      "text/plain": [
       "[('_c0', 'int'), ('_c1', 'string'), ('_c2', 'string')]"
      ]
     },
     "execution_count": 9,
     "metadata": {},
     "output_type": "execute_result"
    }
   ],
   "source": [
    "movies.dtypes"
   ]
  },
  {
   "cell_type": "code",
   "execution_count": 10,
   "id": "b4cd04fb",
   "metadata": {},
   "outputs": [
    {
     "name": "stdout",
     "output_type": "stream",
     "text": [
      "+---+--------------------+--------------------+\n",
      "|_c0|                 _c1|                 _c2|\n",
      "+---+--------------------+--------------------+\n",
      "|  1|    Toy Story (1995)|Animation|Childre...|\n",
      "|  2|      Jumanji (1995)|Adventure|Childre...|\n",
      "|  3|Grumpier Old Men ...|      Comedy|Romance|\n",
      "|  4|Waiting to Exhale...|        Comedy|Drama|\n",
      "|  5|Father of the Bri...|              Comedy|\n",
      "|  6|         Heat (1995)|Action|Crime|Thri...|\n",
      "|  7|      Sabrina (1995)|      Comedy|Romance|\n",
      "|  8| Tom and Huck (1995)|Adventure|Children's|\n",
      "|  9| Sudden Death (1995)|              Action|\n",
      "| 10|    GoldenEye (1995)|Action|Adventure|...|\n",
      "+---+--------------------+--------------------+\n",
      "only showing top 10 rows\n",
      "\n"
     ]
    }
   ],
   "source": [
    "movies.show(10)"
   ]
  },
  {
   "cell_type": "code",
   "execution_count": 11,
   "id": "c71da2e6",
   "metadata": {},
   "outputs": [
    {
     "data": {
      "text/plain": [
       "3883"
      ]
     },
     "execution_count": 11,
     "metadata": {},
     "output_type": "execute_result"
    }
   ],
   "source": [
    "movies.count()"
   ]
  },
  {
   "cell_type": "code",
   "execution_count": 12,
   "id": "731a9b2d",
   "metadata": {},
   "outputs": [],
   "source": [
    "column_names = [\"movie_id\",\"title\",\"genres\"]\n",
    "df_movie = movies.toDF(*column_names)\n",
    "\n",
    "# Create an accumulator for counting\n",
    "count_accumulator = spark.sparkContext.accumulator(0)"
   ]
  },
  {
   "cell_type": "code",
   "execution_count": 13,
   "id": "67339416",
   "metadata": {},
   "outputs": [
    {
     "name": "stdout",
     "output_type": "stream",
     "text": [
      "+--------+--------------------+------+----+\n",
      "|movie_id|               title|genres|year|\n",
      "+--------+--------------------+------+----+\n",
      "|    3231| Saphead, The (1920)|Comedy|1920|\n",
      "|    3309|Dog's Life, A (1920)|Comedy|1920|\n",
      "+--------+--------------------+------+----+\n",
      "\n"
     ]
    },
    {
     "name": "stderr",
     "output_type": "stream",
     "text": [
      "\r",
      "[Stage 7:>                                                          (0 + 1) / 1]\r"
     ]
    },
    {
     "name": "stdout",
     "output_type": "stream",
     "text": [
      "2\n"
     ]
    },
    {
     "name": "stderr",
     "output_type": "stream",
     "text": [
      "\r",
      "                                                                                \r"
     ]
    }
   ],
   "source": [
    "\n",
    "# Find number of movies released between year 1920 to 1930\n",
    "\n",
    "df_movie_with_year = df_movie.withColumn(\"year\", substring('title', -5, 4).cast(\"int\"))\n",
    "\n",
    "df_movie_with_year.filter(col(\"year\")== 1920).show()\n",
    "df_movie_with_year.foreach(lambda row: count_accumulator.add(1) if row.year == 1920 else None)\n",
    "\n",
    "v = count_accumulator.value\n",
    "print(v)"
   ]
  },
  {
   "cell_type": "markdown",
   "id": "60cbf417",
   "metadata": {},
   "source": [
    "# 1) What are the top 10 most viewed movies?"
   ]
  },
  {
   "cell_type": "code",
   "execution_count": 17,
   "id": "c6f784bd",
   "metadata": {},
   "outputs": [
    {
     "name": "stderr",
     "output_type": "stream",
     "text": [
      "                                                                                \r"
     ]
    },
    {
     "data": {
      "text/plain": [
       "[('2858', 3428),\n",
       " ('260', 2991),\n",
       " ('1196', 2990),\n",
       " ('1210', 2883),\n",
       " ('480', 2672),\n",
       " ('2028', 2653),\n",
       " ('589', 2649),\n",
       " ('2571', 2590),\n",
       " ('1270', 2583),\n",
       " ('593', 2578)]"
      ]
     },
     "execution_count": 17,
     "metadata": {},
     "output_type": "execute_result"
    }
   ],
   "source": [
    "# 1) What are the top 10 most viewed movies?\n",
    "from pyspark import SparkContext\n",
    "sc = SparkContext.getOrCreate()\n",
    "# Using RDD:\n",
    "rdd = sc.textFile(home_dir+\"ratings.csv\")\n",
    "rdd2 = rdd.map(lambda x: x.split(\"::\"))\n",
    "rdd3 = rdd2.map(lambda x: x[1],1)\n",
    "rdd3.take(1)\n",
    "                                                                     \n",
    "rdd3 = rdd2.map(lambda x: (x[1],1))\n",
    "rdd3.take(1)\n",
    "                                                                   \n",
    "\n",
    "rdd4 = rdd3.reduceByKey(lambda x,y : x+y)\n",
    "rdd4.take(1)\n",
    "                                                               \n",
    "rdd5 = rdd4.sortBy(lambda x: x[1], ascending = False)\n",
    "rdd5.take(10)"
   ]
  },
  {
   "cell_type": "markdown",
   "id": "29c0572f",
   "metadata": {},
   "source": [
    "# 2. What are the distinct list of genres available"
   ]
  },
  {
   "cell_type": "code",
   "execution_count": 18,
   "id": "684465db",
   "metadata": {},
   "outputs": [
    {
     "data": {
      "text/plain": [
       "['1', '1193', '5', '978300760']"
      ]
     },
     "execution_count": 18,
     "metadata": {},
     "output_type": "execute_result"
    }
   ],
   "source": [
    "# What are the distinct list of genres available\n",
    "\n",
    "rdd2 = rdd.map(lambda line: line.split(\"::\"))\n",
    "rdd2.first()"
   ]
  },
  {
   "cell_type": "code",
   "execution_count": 19,
   "id": "254df151",
   "metadata": {},
   "outputs": [
    {
     "name": "stderr",
     "output_type": "stream",
     "text": [
      "                                                                                \r"
     ]
    },
    {
     "data": {
      "text/plain": [
       "['4', '1', '5', '3', '2']"
      ]
     },
     "execution_count": 19,
     "metadata": {},
     "output_type": "execute_result"
    }
   ],
   "source": [
    "genres = rdd2.flatMap(lambda line: line[2].split(\"|\")).distinct()\n",
    "genres.collect()\n"
   ]
  },
  {
   "cell_type": "code",
   "execution_count": 20,
   "id": "bc0088f3",
   "metadata": {},
   "outputs": [
    {
     "name": "stdout",
     "output_type": "stream",
     "text": [
      "+------------+\n",
      "|Movie_geners|\n",
      "+------------+\n",
      "|       Crime|\n",
      "|     Romance|\n",
      "|    Thriller|\n",
      "|   Adventure|\n",
      "|  Children's|\n",
      "|       Drama|\n",
      "|         War|\n",
      "| Documentary|\n",
      "|     Fantasy|\n",
      "|     Mystery|\n",
      "|     Musical|\n",
      "|   Animation|\n",
      "|   Film-Noir|\n",
      "|      Horror|\n",
      "|     Western|\n",
      "|      Comedy|\n",
      "|      Action|\n",
      "|      Sci-Fi|\n",
      "+------------+\n",
      "\n"
     ]
    }
   ],
   "source": [
    "# Using DF:\n",
    "genres = df_movie.select(explode(split(\"genres\", \"\\\\|\")).alias(\"Movie_geners\")).distinct()\n",
    "genres.show()"
   ]
  },
  {
   "cell_type": "markdown",
   "id": "df26343c",
   "metadata": {},
   "source": [
    "# 3. How many movies for each genre?"
   ]
  },
  {
   "cell_type": "code",
   "execution_count": 28,
   "id": "a03d4b63",
   "metadata": {},
   "outputs": [
    {
     "name": "stdout",
     "output_type": "stream",
     "text": [
      "+-----------+------------+\n",
      "|     genres|Total_movies|\n",
      "+-----------+------------+\n",
      "|      Crime|         211|\n",
      "|    Romance|         471|\n",
      "|   Thriller|         492|\n",
      "|  Adventure|         283|\n",
      "| Children's|         251|\n",
      "|      Drama|        1603|\n",
      "|        War|         143|\n",
      "|Documentary|         127|\n",
      "|    Fantasy|          68|\n",
      "|    Mystery|         106|\n",
      "|    Musical|         114|\n",
      "|  Animation|         105|\n",
      "|  Film-Noir|          44|\n",
      "|     Horror|         343|\n",
      "|    Western|          68|\n",
      "|     Comedy|        1200|\n",
      "|     Action|         503|\n",
      "|     Sci-Fi|         276|\n",
      "+-----------+------------+\n",
      "\n"
     ]
    }
   ],
   "source": [
    "from operator import add\n",
    "rdd = sc.textFile(home_dir+\"movies.csv\")\n",
    "rdd2 = rdd.map(lambda line: line.split(\"::\"))\n",
    "genres = rdd2.flatMap(lambda line: line[2].split(\"|\"))\n",
    "rdd3 = genres.map(lambda row: (row,1))\n",
    "rdd5 = rdd3.sortByKey()\n",
    "rdd5.collect()\n",
    "# [('Action', 503), ('Adventure', 283), ('Animation', 105), (\"Children's\", 251), ('Comedy', 1200), ('Crime', 211), ('Documentary', 127), ('Drama', 1603), ('Fantasy', 68), ('Film-Noir', 44), ('Horror', 343), ('Musical', 114), ('Mystery', 106), ('Romance', 471), ('Sci-Fi', 276), ('Thriller', 492), ('War', 143), ('Western', 68)]\n",
    "\n",
    "\n",
    "\n",
    "\n",
    "# Using DF:\n",
    "\n",
    "all_genres = df_movie.select(explode(split(\"genres\", \"\\\\|\")).alias('genres'))\n",
    "\n",
    "all_genres.groupBy('genres').agg(count('genres').alias(\"Total_movies\")).show()"
   ]
  },
  {
   "cell_type": "markdown",
   "id": "ef751386",
   "metadata": {},
   "source": [
    "# 4. How many movies are starting with numbers or letters (Example: Starting with 1/2/3../A/B/C..Z)?\n"
   ]
  },
  {
   "cell_type": "code",
   "execution_count": 25,
   "id": "7eeff0e6",
   "metadata": {},
   "outputs": [
    {
     "name": "stdout",
     "output_type": "stream",
     "text": [
      "3878\n",
      "+--------+--------------------+--------------------+\n",
      "|movie_id|               title|              genres|\n",
      "+--------+--------------------+--------------------+\n",
      "|    2572|10 Things I Hate ...|      Comedy|Romance|\n",
      "|    1367|101 Dalmatians (1...|   Children's|Comedy|\n",
      "|     889|        1-900 (1994)|             Romance|\n",
      "|    2085|101 Dalmatians (1...|Animation|Children's|\n",
      "|    1609|          187 (1997)|               Drama|\n",
      "|    2826|13th Warrior, The...|Action|Horror|Thr...|\n",
      "|    1203| 12 Angry Men (1957)|               Drama|\n",
      "+--------+--------------------+--------------------+\n",
      "\n"
     ]
    }
   ],
   "source": [
    "rdd = sc.textFile(home_dir+\"movies.csv\")\n",
    "rdd2 = rdd.map(lambda line: line.split(\"::\"))\n",
    "movie_name = rdd2.filter(lambda x: x[1][0].isdigit())\n",
    "movie_name.first()\n",
    "\n",
    "movie_count = rdd2.filter(lambda x: x[1][0].isdigit() or x[1][0].isalpha()).count()\n",
    "print(movie_count)\n",
    "\n",
    "\n",
    "\n",
    "\n",
    "# Using DF to find movies starting with number 1:\n",
    "\n",
    "df_movie.filter(col('title').startswith('1')).distinct().show()\n"
   ]
  },
  {
   "cell_type": "markdown",
   "id": "21d0526f",
   "metadata": {},
   "source": [
    "# 5. List the latest released movies"
   ]
  },
  {
   "cell_type": "code",
   "execution_count": 27,
   "id": "9b375497",
   "metadata": {},
   "outputs": [
    {
     "name": "stdout",
     "output_type": "stream",
     "text": [
      "+--------+--------------------+--------------------+----+\n",
      "|movie_id|               title|              genres|year|\n",
      "+--------+--------------------+--------------------+----+\n",
      "|       1|    Toy Story (1995)|Animation|Childre...|1995|\n",
      "|       2|      Jumanji (1995)|Adventure|Childre...|1995|\n",
      "|       3|Grumpier Old Men ...|      Comedy|Romance|1995|\n",
      "|       4|Waiting to Exhale...|        Comedy|Drama|1995|\n",
      "|       5|Father of the Bri...|              Comedy|1995|\n",
      "|       6|         Heat (1995)|Action|Crime|Thri...|1995|\n",
      "|       7|      Sabrina (1995)|      Comedy|Romance|1995|\n",
      "|       8| Tom and Huck (1995)|Adventure|Children's|1995|\n",
      "|       9| Sudden Death (1995)|              Action|1995|\n",
      "|      10|    GoldenEye (1995)|Action|Adventure|...|1995|\n",
      "|      11|American Presiden...|Comedy|Drama|Romance|1995|\n",
      "|      12|Dracula: Dead and...|       Comedy|Horror|1995|\n",
      "|      13|        Balto (1995)|Animation|Children's|1995|\n",
      "|      14|        Nixon (1995)|               Drama|1995|\n",
      "|      15|Cutthroat Island ...|Action|Adventure|...|1995|\n",
      "|      16|       Casino (1995)|      Drama|Thriller|1995|\n",
      "|      17|Sense and Sensibi...|       Drama|Romance|1995|\n",
      "|      18|   Four Rooms (1995)|            Thriller|1995|\n",
      "|      19|Ace Ventura: When...|              Comedy|1995|\n",
      "|      20|  Money Train (1995)|              Action|1995|\n",
      "+--------+--------------------+--------------------+----+\n",
      "only showing top 20 rows\n",
      "\n",
      "2000\n",
      "+--------+--------------------+--------------------+----+\n",
      "|movie_id|               title|              genres|year|\n",
      "+--------+--------------------+--------------------+----+\n",
      "|    3190|    Supernova (2000)|    Adventure|Sci-Fi|2000|\n",
      "|    3225|  Down to You (2000)|      Comedy|Romance|2000|\n",
      "|    3239|Isn't She Great? ...|              Comedy|2000|\n",
      "|    3273|     Scream 3 (2000)|Horror|Mystery|Th...|2000|\n",
      "|    3276|      Gun Shy (2000)|              Comedy|2000|\n",
      "|    3285|   Beach, The (2000)|     Adventure|Drama|2000|\n",
      "|    3286|     Snow Day (2000)|              Comedy|2000|\n",
      "|    3287|Tigger Movie, The...|Animation|Children's|2000|\n",
      "|    3291|        Trois (2000)|            Thriller|2000|\n",
      "|    3298|  Boiler Room (2000)|               Drama|2000|\n",
      "|    3299|   Hanging Up (2000)|        Comedy|Drama|2000|\n",
      "|    3300|  Pitch Black (2000)|       Action|Sci-Fi|2000|\n",
      "|    3301|Whole Nine Yards,...|        Comedy|Crime|2000|\n",
      "|    3316|Reindeer Games (2...|     Action|Thriller|2000|\n",
      "|    3317|  Wonder Boys (2000)|        Comedy|Drama|2000|\n",
      "|    3321|Waiting Game, The...|              Comedy|2000|\n",
      "|    3322|    3 Strikes (2000)|              Comedy|2000|\n",
      "|    3323|Chain of Fools (2...|        Comedy|Crime|2000|\n",
      "|    3324|Drowning Mona (2000)|              Comedy|2000|\n",
      "|    3325|Next Best Thing, ...|        Comedy|Drama|2000|\n",
      "+--------+--------------------+--------------------+----+\n",
      "only showing top 20 rows\n",
      "\n"
     ]
    },
    {
     "data": {
      "text/plain": [
       "156"
      ]
     },
     "execution_count": 27,
     "metadata": {},
     "output_type": "execute_result"
    }
   ],
   "source": [
    "# Using RDD:\n",
    "\n",
    "rdd = sc.textFile(home_dir+\"movies.csv\")\n",
    "rdd2 = rdd.map(lambda line: line.split(\"::\"))\n",
    "rdd3_year =  rdd2.map(lambda x: (x[0],x[1],x[2], int(x[1][-5:-1])))\n",
    "rdd3_year.first()\n",
    "\n",
    "rdd4_sort = rdd3_year.sortBy(lambda x: x[3], ascending = False)\n",
    "rdd4_sort.take(10)\n",
    "\n",
    "\n",
    "\n",
    "\n",
    "# Using DF:\n",
    "\n",
    "from pyspark.sql.functions import substring\n",
    "df_movie_new = df_movie.withColumn('year', substring(df_movie['title'], -5,4).cast(\"int\"))\n",
    "df_movie_new.show()\n",
    "\n",
    "max_year = df_movie_new.select(max(col(\"year\"))).first()[0]\n",
    "print(max_year)\n",
    "\n",
    "df_movie_new.filter(col(\"year\") == max_year).show()\n",
    "\n",
    "\n",
    "df_movie_new.filter(col(\"year\") == max_year).count()\n",
    "\n"
   ]
  },
  {
   "cell_type": "code",
   "execution_count": null,
   "id": "036133bf",
   "metadata": {},
   "outputs": [],
   "source": []
  }
 ],
 "metadata": {
  "kernelspec": {
   "display_name": "Python 3 (ipykernel)",
   "language": "python",
   "name": "python3"
  },
  "language_info": {
   "codemirror_mode": {
    "name": "ipython",
    "version": 3
   },
   "file_extension": ".py",
   "mimetype": "text/x-python",
   "name": "python",
   "nbconvert_exporter": "python",
   "pygments_lexer": "ipython3",
   "version": "3.10.9"
  }
 },
 "nbformat": 4,
 "nbformat_minor": 5
}
