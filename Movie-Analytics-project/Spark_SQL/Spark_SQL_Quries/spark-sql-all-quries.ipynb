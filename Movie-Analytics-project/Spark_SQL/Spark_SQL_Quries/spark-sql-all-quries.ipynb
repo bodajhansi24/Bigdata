{
 "cells": [
  {
   "cell_type": "markdown",
   "id": "f845d93b",
   "metadata": {},
   "source": [
    "# SPARK Queries:\n"
   ]
  },
  {
   "cell_type": "markdown",
   "id": "719d434e",
   "metadata": {},
   "source": [
    "# SPARK_SQL_QURIES\n",
    "1.Create tables for movies.dat, users.dat and ratings.dat: Saving Tables from Spark SQL\n",
    "2.Find the list of the oldest released movies.\n",
    "3.How many movies are released each year?\n",
    "4.How many number of movies are there for each rating?\n",
    "5.How many users have rated each movie?\n",
    "6.What is the total rating for each movie?\n",
    "7.What is the average rating for each movie?"
   ]
  },
  {
   "cell_type": "code",
   "execution_count": 1,
   "id": "6f1831f0",
   "metadata": {},
   "outputs": [
    {
     "name": "stdout",
     "output_type": "stream",
     "text": [
      "Requirement already satisfied: pyspark in /Users/jhansiboda/anaconda3/lib/python3.10/site-packages (3.4.0)\n",
      "Requirement already satisfied: py4j==0.10.9.7 in /Users/jhansiboda/anaconda3/lib/python3.10/site-packages (from pyspark) (0.10.9.7)\n",
      "Note: you may need to restart the kernel to use updated packages.\n"
     ]
    }
   ],
   "source": [
    "pip install pyspark"
   ]
  },
  {
   "cell_type": "code",
   "execution_count": 2,
   "id": "38a7f5d3",
   "metadata": {},
   "outputs": [],
   "source": [
    "from pyspark.sql.functions import *\n",
    "from pyspark.sql import SparkSession\n",
    "from pyspark.sql.functions import substring, col"
   ]
  },
  {
   "cell_type": "code",
   "execution_count": 3,
   "id": "c6f37c79",
   "metadata": {},
   "outputs": [],
   "source": [
    "home_dir = \"/Users/jhansiboda/Desktop/MovieAnalytics/Movie-Analytics-project/MovieLens Dataset/\""
   ]
  },
  {
   "cell_type": "code",
   "execution_count": 4,
   "id": "04180d57",
   "metadata": {},
   "outputs": [
    {
     "name": "stdout",
     "output_type": "stream",
     "text": [
      "/Users/jhansiboda/Desktop/MovieAnalytics/Movie-Analytics-project/MovieLens Dataset/\n"
     ]
    }
   ],
   "source": [
    "print(home_dir)"
   ]
  },
  {
   "cell_type": "code",
   "execution_count": 5,
   "id": "f4a68d02",
   "metadata": {},
   "outputs": [
    {
     "name": "stderr",
     "output_type": "stream",
     "text": [
      "Setting default log level to \"WARN\".\n",
      "To adjust logging level use sc.setLogLevel(newLevel). For SparkR, use setLogLevel(newLevel).\n",
      "23/06/21 10:05:41 WARN NativeCodeLoader: Unable to load native-hadoop library for your platform... using builtin-java classes where applicable\n",
      "23/06/21 10:05:42 WARN Utils: Service 'SparkUI' could not bind on port 4040. Attempting port 4041.\n"
     ]
    }
   ],
   "source": [
    "# Create a SparkSession\n",
    "spark = SparkSession.builder.getOrCreate()"
   ]
  },
  {
   "cell_type": "code",
   "execution_count": 6,
   "id": "de1b766b",
   "metadata": {},
   "outputs": [],
   "source": [
    "df_movies = spark.read.option(\"header\", \"False\").option(\"delimiter\",\"::\").option(\"inferSchema\",\"true\").csv(home_dir + \"movies.csv\")"
   ]
  },
  {
   "cell_type": "code",
   "execution_count": 7,
   "id": "e77d749a",
   "metadata": {},
   "outputs": [
    {
     "name": "stdout",
     "output_type": "stream",
     "text": [
      "DataFrame[_c0: int, _c1: string, _c2: string]\n"
     ]
    }
   ],
   "source": [
    "print(df_movies)"
   ]
  },
  {
   "cell_type": "code",
   "execution_count": 8,
   "id": "2852f01b",
   "metadata": {},
   "outputs": [
    {
     "name": "stdout",
     "output_type": "stream",
     "text": [
      "root\n",
      " |-- _c0: integer (nullable = true)\n",
      " |-- _c1: string (nullable = true)\n",
      " |-- _c2: string (nullable = true)\n",
      "\n"
     ]
    }
   ],
   "source": [
    "df_movies.printSchema()"
   ]
  },
  {
   "cell_type": "code",
   "execution_count": 9,
   "id": "39d264e2",
   "metadata": {},
   "outputs": [
    {
     "name": "stdout",
     "output_type": "stream",
     "text": [
      "+---+--------------------+--------------------+\n",
      "|_c0|                 _c1|                 _c2|\n",
      "+---+--------------------+--------------------+\n",
      "|  1|    Toy Story (1995)|Animation|Childre...|\n",
      "|  2|      Jumanji (1995)|Adventure|Childre...|\n",
      "|  3|Grumpier Old Men ...|      Comedy|Romance|\n",
      "|  4|Waiting to Exhale...|        Comedy|Drama|\n",
      "|  5|Father of the Bri...|              Comedy|\n",
      "|  6|         Heat (1995)|Action|Crime|Thri...|\n",
      "|  7|      Sabrina (1995)|      Comedy|Romance|\n",
      "|  8| Tom and Huck (1995)|Adventure|Children's|\n",
      "|  9| Sudden Death (1995)|              Action|\n",
      "| 10|    GoldenEye (1995)|Action|Adventure|...|\n",
      "+---+--------------------+--------------------+\n",
      "only showing top 10 rows\n",
      "\n"
     ]
    },
    {
     "name": "stderr",
     "output_type": "stream",
     "text": [
      "23/06/21 10:05:53 WARN GarbageCollectionMetrics: To enable non-built-in garbage collector(s) List(G1 Concurrent GC), users should configure it(them) to spark.eventLog.gcMetrics.youngGenerationGarbageCollectors or spark.eventLog.gcMetrics.oldGenerationGarbageCollectors\n"
     ]
    }
   ],
   "source": [
    "df_movies.dtypes\n",
    "df_movies.show(10)"
   ]
  },
  {
   "cell_type": "code",
   "execution_count": 10,
   "id": "c71da2e6",
   "metadata": {},
   "outputs": [
    {
     "data": {
      "text/plain": [
       "3883"
      ]
     },
     "execution_count": 10,
     "metadata": {},
     "output_type": "execute_result"
    }
   ],
   "source": [
    "df_movies.count()"
   ]
  },
  {
   "cell_type": "code",
   "execution_count": 11,
   "id": "036133bf",
   "metadata": {},
   "outputs": [],
   "source": [
    "df_ratings = spark.read.option(\"header\", \"False\").option(\"delimiter\",\"::\").option(\"inferSchema\",\"true\").csv(home_dir + \"ratings.csv\")"
   ]
  },
  {
   "cell_type": "code",
   "execution_count": 12,
   "id": "c5e2bbe7",
   "metadata": {},
   "outputs": [
    {
     "name": "stdout",
     "output_type": "stream",
     "text": [
      "DataFrame[_c0: int, _c1: int, _c2: int, _c3: int]\n",
      "root\n",
      " |-- _c0: integer (nullable = true)\n",
      " |-- _c1: integer (nullable = true)\n",
      " |-- _c2: integer (nullable = true)\n",
      " |-- _c3: integer (nullable = true)\n",
      "\n"
     ]
    }
   ],
   "source": [
    "print(df_ratings)\n",
    "df_ratings.printSchema()"
   ]
  },
  {
   "cell_type": "code",
   "execution_count": 13,
   "id": "920918a5",
   "metadata": {},
   "outputs": [
    {
     "name": "stdout",
     "output_type": "stream",
     "text": [
      "+---+----+---+---------+\n",
      "|_c0| _c1|_c2|      _c3|\n",
      "+---+----+---+---------+\n",
      "|  1|1193|  5|978300760|\n",
      "|  1| 661|  3|978302109|\n",
      "|  1| 914|  3|978301968|\n",
      "|  1|3408|  4|978300275|\n",
      "|  1|2355|  5|978824291|\n",
      "|  1|1197|  3|978302268|\n",
      "|  1|1287|  5|978302039|\n",
      "|  1|2804|  5|978300719|\n",
      "|  1| 594|  4|978302268|\n",
      "|  1| 919|  4|978301368|\n",
      "+---+----+---+---------+\n",
      "only showing top 10 rows\n",
      "\n"
     ]
    }
   ],
   "source": [
    "df_ratings.dtypes\n",
    "df_ratings.show(10)"
   ]
  },
  {
   "cell_type": "code",
   "execution_count": 14,
   "id": "c868350f",
   "metadata": {},
   "outputs": [
    {
     "data": {
      "text/plain": [
       "1000209"
      ]
     },
     "execution_count": 14,
     "metadata": {},
     "output_type": "execute_result"
    }
   ],
   "source": [
    "df_ratings.count()"
   ]
  },
  {
   "cell_type": "code",
   "execution_count": 15,
   "id": "02bc31de",
   "metadata": {},
   "outputs": [],
   "source": [
    "df_users = spark.read.option(\"header\", \"False\").option(\"delimiter\",\"::\").option(\"inferSchema\",\"true\").csv(home_dir + \"users.csv\")"
   ]
  },
  {
   "cell_type": "code",
   "execution_count": 16,
   "id": "fac49af8",
   "metadata": {},
   "outputs": [
    {
     "name": "stdout",
     "output_type": "stream",
     "text": [
      "DataFrame[_c0: int, _c1: string, _c2: int, _c3: int, _c4: string]\n",
      "root\n",
      " |-- _c0: integer (nullable = true)\n",
      " |-- _c1: string (nullable = true)\n",
      " |-- _c2: integer (nullable = true)\n",
      " |-- _c3: integer (nullable = true)\n",
      " |-- _c4: string (nullable = true)\n",
      "\n"
     ]
    }
   ],
   "source": [
    "print(df_users)\n",
    "df_users.printSchema()"
   ]
  },
  {
   "cell_type": "code",
   "execution_count": 17,
   "id": "d8620b91",
   "metadata": {},
   "outputs": [
    {
     "name": "stdout",
     "output_type": "stream",
     "text": [
      "+---+---+---+---+-----+\n",
      "|_c0|_c1|_c2|_c3|  _c4|\n",
      "+---+---+---+---+-----+\n",
      "|  1|  F|  1| 10|48067|\n",
      "|  2|  M| 56| 16|70072|\n",
      "|  3|  M| 25| 15|55117|\n",
      "|  4|  M| 45|  7|02460|\n",
      "|  5|  M| 25| 20|55455|\n",
      "|  6|  F| 50|  9|55117|\n",
      "|  7|  M| 35|  1|06810|\n",
      "|  8|  M| 25| 12|11413|\n",
      "|  9|  M| 25| 17|61614|\n",
      "| 10|  F| 35|  1|95370|\n",
      "+---+---+---+---+-----+\n",
      "only showing top 10 rows\n",
      "\n"
     ]
    }
   ],
   "source": [
    "df_users.dtypes\n",
    "df_users.show(10)"
   ]
  },
  {
   "cell_type": "code",
   "execution_count": 18,
   "id": "7ba61392",
   "metadata": {},
   "outputs": [
    {
     "data": {
      "text/plain": [
       "6040"
      ]
     },
     "execution_count": 18,
     "metadata": {},
     "output_type": "execute_result"
    }
   ],
   "source": [
    "df_users.count()"
   ]
  },
  {
   "cell_type": "markdown",
   "id": "9609f2e2",
   "metadata": {},
   "source": [
    "# 1.Create tables for movies.csv, users.csv and ratings.csv: Saving Tables from Spark SQL"
   ]
  },
  {
   "cell_type": "code",
   "execution_count": 19,
   "id": "19421957",
   "metadata": {},
   "outputs": [],
   "source": [
    "column_names = [\"user_id\", \"movie_id\", \"rating\", \"timestamp\"]"
   ]
  },
  {
   "cell_type": "code",
   "execution_count": 20,
   "id": "5a88acc8",
   "metadata": {},
   "outputs": [
    {
     "name": "stdout",
     "output_type": "stream",
     "text": [
      "+-------+--------+------+---------+\n",
      "|user_id|movie_id|rating|timestamp|\n",
      "+-------+--------+------+---------+\n",
      "|      1|    1193|     5|978300760|\n",
      "|      1|     661|     3|978302109|\n",
      "|      1|     914|     3|978301968|\n",
      "|      1|    3408|     4|978300275|\n",
      "|      1|    2355|     5|978824291|\n",
      "|      1|    1197|     3|978302268|\n",
      "|      1|    1287|     5|978302039|\n",
      "|      1|    2804|     5|978300719|\n",
      "|      1|     594|     4|978302268|\n",
      "|      1|     919|     4|978301368|\n",
      "|      1|     595|     5|978824268|\n",
      "|      1|     938|     4|978301752|\n",
      "|      1|    2398|     4|978302281|\n",
      "|      1|    2918|     4|978302124|\n",
      "|      1|    1035|     5|978301753|\n",
      "|      1|    2791|     4|978302188|\n",
      "|      1|    2687|     3|978824268|\n",
      "|      1|    2018|     4|978301777|\n",
      "|      1|    3105|     5|978301713|\n",
      "|      1|    2797|     4|978302039|\n",
      "+-------+--------+------+---------+\n",
      "only showing top 20 rows\n",
      "\n"
     ]
    }
   ],
   "source": [
    "df_rating = df_ratings.toDF(*column_names)\n",
    "df_rating.show()"
   ]
  },
  {
   "cell_type": "code",
   "execution_count": 21,
   "id": "566ea586",
   "metadata": {},
   "outputs": [],
   "source": [
    "column_names = [\"user_id\", \"gender\", \"age\", \"occupation\", \"zip_code\"]"
   ]
  },
  {
   "cell_type": "code",
   "execution_count": 22,
   "id": "08a83cff",
   "metadata": {},
   "outputs": [
    {
     "name": "stdout",
     "output_type": "stream",
     "text": [
      "+-------+------+---+----------+--------+\n",
      "|user_id|gender|age|occupation|zip_code|\n",
      "+-------+------+---+----------+--------+\n",
      "|      1|     F|  1|        10|   48067|\n",
      "|      2|     M| 56|        16|   70072|\n",
      "|      3|     M| 25|        15|   55117|\n",
      "|      4|     M| 45|         7|   02460|\n",
      "|      5|     M| 25|        20|   55455|\n",
      "|      6|     F| 50|         9|   55117|\n",
      "|      7|     M| 35|         1|   06810|\n",
      "|      8|     M| 25|        12|   11413|\n",
      "|      9|     M| 25|        17|   61614|\n",
      "|     10|     F| 35|         1|   95370|\n",
      "|     11|     F| 25|         1|   04093|\n",
      "|     12|     M| 25|        12|   32793|\n",
      "|     13|     M| 45|         1|   93304|\n",
      "|     14|     M| 35|         0|   60126|\n",
      "|     15|     M| 25|         7|   22903|\n",
      "|     16|     F| 35|         0|   20670|\n",
      "|     17|     M| 50|         1|   95350|\n",
      "|     18|     F| 18|         3|   95825|\n",
      "|     19|     M|  1|        10|   48073|\n",
      "|     20|     M| 25|        14|   55113|\n",
      "+-------+------+---+----------+--------+\n",
      "only showing top 20 rows\n",
      "\n"
     ]
    }
   ],
   "source": [
    "df_user = df_users.toDF(*column_names)\n",
    "df_user.show()"
   ]
  },
  {
   "cell_type": "code",
   "execution_count": 23,
   "id": "00e6a045",
   "metadata": {},
   "outputs": [],
   "source": [
    "column_names = [\"movie_id\",\"title\",\"genres\"]"
   ]
  },
  {
   "cell_type": "code",
   "execution_count": 24,
   "id": "141a07e5",
   "metadata": {},
   "outputs": [
    {
     "name": "stdout",
     "output_type": "stream",
     "text": [
      "+--------+--------------------+--------------------+\n",
      "|movie_id|               title|              genres|\n",
      "+--------+--------------------+--------------------+\n",
      "|       1|    Toy Story (1995)|Animation|Childre...|\n",
      "|       2|      Jumanji (1995)|Adventure|Childre...|\n",
      "|       3|Grumpier Old Men ...|      Comedy|Romance|\n",
      "|       4|Waiting to Exhale...|        Comedy|Drama|\n",
      "|       5|Father of the Bri...|              Comedy|\n",
      "|       6|         Heat (1995)|Action|Crime|Thri...|\n",
      "|       7|      Sabrina (1995)|      Comedy|Romance|\n",
      "|       8| Tom and Huck (1995)|Adventure|Children's|\n",
      "|       9| Sudden Death (1995)|              Action|\n",
      "|      10|    GoldenEye (1995)|Action|Adventure|...|\n",
      "|      11|American Presiden...|Comedy|Drama|Romance|\n",
      "|      12|Dracula: Dead and...|       Comedy|Horror|\n",
      "|      13|        Balto (1995)|Animation|Children's|\n",
      "|      14|        Nixon (1995)|               Drama|\n",
      "|      15|Cutthroat Island ...|Action|Adventure|...|\n",
      "|      16|       Casino (1995)|      Drama|Thriller|\n",
      "|      17|Sense and Sensibi...|       Drama|Romance|\n",
      "|      18|   Four Rooms (1995)|            Thriller|\n",
      "|      19|Ace Ventura: When...|              Comedy|\n",
      "|      20|  Money Train (1995)|              Action|\n",
      "+--------+--------------------+--------------------+\n",
      "only showing top 20 rows\n",
      "\n"
     ]
    }
   ],
   "source": [
    "df_movie = df_movies.toDF(*column_names)\n",
    "df_movie.show()"
   ]
  },
  {
   "cell_type": "code",
   "execution_count": 25,
   "id": "6c3d134b",
   "metadata": {},
   "outputs": [],
   "source": [
    "df_user.count()\n",
    "df_rating.count()\n",
    "df_movie.count()\n",
    "\n",
    "df_movie.createOrReplaceTempView(\"movies\")\n",
    "df_rating.createOrReplaceTempView(\"ratings\")\n",
    "df_user.createOrReplaceTempView(\"users\")\n"
   ]
  },
  {
   "cell_type": "markdown",
   "id": "0cb488ad",
   "metadata": {},
   "source": [
    "# 2.Find the list of the oldest released movies."
   ]
  },
  {
   "cell_type": "code",
   "execution_count": 26,
   "id": "3ccab866",
   "metadata": {},
   "outputs": [
    {
     "name": "stdout",
     "output_type": "stream",
     "text": [
      "+--------+--------------------+---------------+----+\n",
      "|movie_id|               title|         genres|year|\n",
      "+--------+--------------------+---------------+----+\n",
      "|    2821|Male and Female (...|Adventure|Drama|1919|\n",
      "|    2823|Spiders, The (Die...|   Action|Drama|1919|\n",
      "|    3132|Daddy Long Legs (...|         Comedy|1919|\n",
      "+--------+--------------------+---------------+----+\n",
      "\n"
     ]
    }
   ],
   "source": [
    "df_movie.createOrReplaceTempView(\"movies\")\n",
    "spark.sql(\"select movie_id, title, substring(title, -5,4) as year, genres from movies\").createOrReplaceTempView(\"movies_new\")\n",
    "spark.sql(\"select movie_id,title,genres,year from movies_new m1 where m1.year = (select min(m2.year) from movies_new m2)\").show()\n"
   ]
  },
  {
   "cell_type": "markdown",
   "id": "59272e59",
   "metadata": {},
   "source": [
    "# 3.How many movies are released each year?"
   ]
  },
  {
   "cell_type": "code",
   "execution_count": 27,
   "id": "c17dc8e7",
   "metadata": {},
   "outputs": [
    {
     "name": "stdout",
     "output_type": "stream",
     "text": [
      "+----+-------------------+\n",
      "|year|total_movie_release|\n",
      "+----+-------------------+\n",
      "|1919|                  3|\n",
      "|1920|                  2|\n",
      "|1921|                  1|\n",
      "|1922|                  2|\n",
      "|1923|                  3|\n",
      "|1925|                  6|\n",
      "|1926|                  8|\n",
      "|1927|                  6|\n",
      "|1928|                  3|\n",
      "|1929|                  3|\n",
      "|1930|                  7|\n",
      "|1931|                  7|\n",
      "|1932|                  7|\n",
      "|1933|                  7|\n",
      "|1934|                  7|\n",
      "|1935|                  6|\n",
      "|1936|                  8|\n",
      "|1937|                 11|\n",
      "|1938|                  6|\n",
      "|1939|                 11|\n",
      "+----+-------------------+\n",
      "only showing top 20 rows\n",
      "\n"
     ]
    }
   ],
   "source": [
    "spark.sql(\"select year, count(*) as total_movie_release from movies_new \\\n",
    "... group by year \\\n",
    "... order by year asc\").show()"
   ]
  },
  {
   "cell_type": "markdown",
   "id": "075140b2",
   "metadata": {},
   "source": [
    "# 4.How many number of movies are there for each rating?"
   ]
  },
  {
   "cell_type": "code",
   "execution_count": 28,
   "id": "4da321bb",
   "metadata": {},
   "outputs": [
    {
     "name": "stdout",
     "output_type": "stream",
     "text": [
      "+------+------------------+\n",
      "|rating|movies_per_ratings|\n",
      "+------+------------------+\n",
      "|     1|             56174|\n",
      "|     2|            107557|\n",
      "|     3|            261197|\n",
      "|     4|            348971|\n",
      "|     5|            226310|\n",
      "+------+------------------+\n",
      "\n"
     ]
    }
   ],
   "source": [
    "df_rating.createOrReplaceTempView(\"ratings\")\n",
    "spark.sql(\"select rating, count(*) as movies_per_ratings from ratings group by rating order by rating\").show()"
   ]
  },
  {
   "cell_type": "markdown",
   "id": "71353007",
   "metadata": {},
   "source": [
    "# 5.How many users have rated each movie?"
   ]
  },
  {
   "cell_type": "code",
   "execution_count": 29,
   "id": "36697293",
   "metadata": {},
   "outputs": [
    {
     "name": "stdout",
     "output_type": "stream",
     "text": [
      "+------+------------------+\n",
      "|rating|movies_per_ratings|\n",
      "+------+------------------+\n",
      "|     1|             56174|\n",
      "|     2|            107557|\n",
      "|     3|            261197|\n",
      "|     4|            348971|\n",
      "|     5|            226310|\n",
      "+------+------------------+\n",
      "\n"
     ]
    }
   ],
   "source": [
    "df_rating.createOrReplaceTempView(\"ratings\")\n",
    "spark.sql(\"select rating, count(*) as movies_per_ratings from ratings group by rating order by rating\").show()"
   ]
  },
  {
   "cell_type": "markdown",
   "id": "8dbeb54b",
   "metadata": {},
   "source": [
    "# 6.What is the total rating for each movie?"
   ]
  },
  {
   "cell_type": "code",
   "execution_count": 30,
   "id": "f03e8cb1",
   "metadata": {},
   "outputs": [
    {
     "name": "stdout",
     "output_type": "stream",
     "text": [
      "+--------+----------------------+\n",
      "|movie_id|total_rating_per_movie|\n",
      "+--------+----------------------+\n",
      "|     142|                     1|\n",
      "|    3209|                     1|\n",
      "|     826|                     1|\n",
      "|    3904|                     1|\n",
      "|     730|                     1|\n",
      "|    1165|                     1|\n",
      "|     641|                     1|\n",
      "|    1386|                     1|\n",
      "|     684|                     1|\n",
      "|    1115|                     1|\n",
      "|    3312|                     1|\n",
      "|     655|                     1|\n",
      "|    2039|                     1|\n",
      "|    2213|                     1|\n",
      "|    3202|                     1|\n",
      "|    2217|                     1|\n",
      "|    3237|                     1|\n",
      "|    1430|                     1|\n",
      "|    3376|                     1|\n",
      "|     133|                     1|\n",
      "+--------+----------------------+\n",
      "only showing top 20 rows\n",
      "\n"
     ]
    }
   ],
   "source": [
    "spark.sql(\"select movie_id, sum(rating) as total_rating_per_movie from ratings group by movie_id order by total_rating_per_movie\").show()"
   ]
  },
  {
   "cell_type": "markdown",
   "id": "6910f7c1",
   "metadata": {},
   "source": [
    "# 7.What is the average rating for each movie?"
   ]
  },
  {
   "cell_type": "code",
   "execution_count": 31,
   "id": "d992aad0",
   "metadata": {},
   "outputs": [
    {
     "name": "stdout",
     "output_type": "stream",
     "text": [
      "+--------+------------------------+\n",
      "|movie_id|average_rating_per_movie|\n",
      "+--------+------------------------+\n",
      "|     787|                     5.0|\n",
      "|    3280|                     5.0|\n",
      "|     989|                     5.0|\n",
      "|    1830|                     5.0|\n",
      "|    3881|                     5.0|\n",
      "|    3172|                     5.0|\n",
      "|    3233|                     5.0|\n",
      "|    3607|                     5.0|\n",
      "|    3382|                     5.0|\n",
      "|    3656|                     5.0|\n",
      "|    3245|                     4.8|\n",
      "|      53|                    4.75|\n",
      "|    2503|       4.666666666666667|\n",
      "|    2905|       4.608695652173913|\n",
      "|    2019|       4.560509554140127|\n",
      "|     318|       4.554557700942973|\n",
      "|     858|       4.524966261808367|\n",
      "|     745|        4.52054794520548|\n",
      "|      50|       4.517106001121705|\n",
      "|     527|       4.510416666666667|\n",
      "+--------+------------------------+\n",
      "only showing top 20 rows\n",
      "\n"
     ]
    }
   ],
   "source": [
    "spark.sql(\"select movie_id, avg(rating) as average_rating_per_movie from ratings group by movie_id order by average_rating_per_movie desc\").show()"
   ]
  },
  {
   "cell_type": "code",
   "execution_count": null,
   "id": "ec37a4b4",
   "metadata": {},
   "outputs": [],
   "source": []
  }
 ],
 "metadata": {
  "kernelspec": {
   "display_name": "Python 3 (ipykernel)",
   "language": "python",
   "name": "python3"
  },
  "language_info": {
   "codemirror_mode": {
    "name": "ipython",
    "version": 3
   },
   "file_extension": ".py",
   "mimetype": "text/x-python",
   "name": "python",
   "nbconvert_exporter": "python",
   "pygments_lexer": "ipython3",
   "version": "3.10.9"
  }
 },
 "nbformat": 4,
 "nbformat_minor": 5
}
